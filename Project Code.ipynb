{
 "cells": [
  {
   "cell_type": "code",
   "execution_count": 1,
   "metadata": {},
   "outputs": [],
   "source": [
    "import numpy as np\n",
    "import scipy"
   ]
  },
  {
   "cell_type": "code",
   "execution_count": 108,
   "metadata": {},
   "outputs": [],
   "source": [
    "def buckling_load(E, I, A, L, BC, n):   # To find critical buckling load\n",
    "\n",
    "    h = L / (n - 1)\n",
    "\n",
    "    k = (E * I / h**3) * np.array([[12,   6*h,    -12,   6*h   ],    # elemental stiffness matrix\n",
    "                                   [6*h,  4*h**2, -6*h,  2*h**2],\n",
    "                                   [-12,  -6*h,    12,  -6*h   ],\n",
    "                                   [6*h,  2*h**2, -6*h,  4*h**2]])\n",
    "\n",
    "    k_sigma = (1 / (30*h)) * np.array([[36,    3*h,    -36,   3*h   ],    # elemental geometric stiffness matrix\n",
    "                                       [3*h,   4*h**2, -3*h, -h**2  ],\n",
    "                                       [-36,  -3*h,     36,  -3*h   ],\n",
    "                                       [3*h,  -h**2,   -3*h,  4*h**2]])\n",
    "    \n",
    "    K = np.zeros((2*n, 2*n))    # Global stiffness matrix\n",
    "    K_sigma = np.zeros((2*n, 2*n))    # Global geometric stiffness matrix\n",
    "    \n",
    "    for i in range(n-1):    # Assembly\n",
    "        K[2*i : 2*i + 4, 2*i : 2*i + 4] += k\n",
    "        K_sigma[2*i : 2*i + 4, 2*i : 2*i + 4] += k_sigma\n",
    "\n",
    "    # Boundary Conditions\n",
    "    if BC == 1:   # fixed-free\n",
    "        K = np.delete(K, [0, 1], 0)\n",
    "        K = np.delete(K, [0, 1], 1)\n",
    "        K_sigma = np.delete(K_sigma, [0, 1], 0)\n",
    "        K_sigma = np.delete(K_sigma, [0, 1], 1)\n",
    "\n",
    "    elif BC == 2:   # fixed-fixed\n",
    "        K = np.delete(K, [0, 1, 2*n-2, 2*n-1], 0)\n",
    "        K = np.delete(K, [0, 1, 2*n-2, 2*n-1], 1)\n",
    "        K_sigma = np.delete(K_sigma, [0, 1, 2*n-2, 2*n-1], 0)\n",
    "        K_sigma = np.delete(K_sigma, [0, 1, 2*n-2, 2*n-1], 1)\n",
    "\n",
    "    elif BC == 3:   # fixed-pinned\n",
    "        K = np.delete(K, [0, 1, 2*n-2], 0)\n",
    "        K = np.delete(K, [0, 1, 2*n-2], 1)\n",
    "        K_sigma = np.delete(K_sigma, [0, 1, 2*n-2], 0)\n",
    "        K_sigma = np.delete(K_sigma, [0, 1, 2*n-2], 1)\n",
    "\n",
    "    elif BC == 4:   # pinned-pinned\n",
    "        K = np.delete(K, [0, 2*n-2], 0)\n",
    "        K = np.delete(K, [0, 2*n-2], 1)\n",
    "        K_sigma = np.delete(K_sigma, [0, 2*n-2], 0)\n",
    "        K_sigma = np.delete(K_sigma, [0, 2*n-2], 1)\n",
    "\n",
    "    # Solving eigenproblem for critical buckling load\n",
    "    eig, eigv = scipy.linalg.eigh(K, K_sigma)\n",
    "    return eig[0]"
   ]
  },
  {
   "cell_type": "code",
   "execution_count": 135,
   "metadata": {},
   "outputs": [
    {
     "name": "stdout",
     "output_type": "stream",
     "text": [
      "Critical Buckling Load = 9.869927789392037\n"
     ]
    }
   ],
   "source": [
    "E = 1   # Young's Modulus\n",
    "I = 1   # Area moment of inertia\n",
    "A = 1   # Area of section\n",
    "L = 1   # Length of beam\n",
    "#n = 2  # Number of nodes\n",
    "\n",
    "# Boundary conditions\n",
    "#   BC = 1 => fixed-free\n",
    "#   BC = 2 => fixed-fixed\n",
    "#   BC = 3 => fixed-pinned\n",
    "#   BC = 4 => pinned-pinned\n",
    "\n",
    "BC = 4\n",
    "\n",
    "critical_load = buckling_load(E, I, A, L, BC, 9)\n",
    "print(\"Critical Buckling Load =\", critical_load)"
   ]
  },
  {
   "cell_type": "code",
   "execution_count": null,
   "metadata": {},
   "outputs": [],
   "source": []
  }
 ],
 "metadata": {
  "kernelspec": {
   "display_name": "Python 3.11.0 64-bit",
   "language": "python",
   "name": "python3"
  },
  "language_info": {
   "codemirror_mode": {
    "name": "ipython",
    "version": 3
   },
   "file_extension": ".py",
   "mimetype": "text/x-python",
   "name": "python",
   "nbconvert_exporter": "python",
   "pygments_lexer": "ipython3",
   "version": "3.11.0"
  },
  "orig_nbformat": 4,
  "vscode": {
   "interpreter": {
    "hash": "0e6ec8f661a74a4c0f4e2e5448aaef4874ac87fb778a3b91086bf9882102a745"
   }
  }
 },
 "nbformat": 4,
 "nbformat_minor": 2
}
